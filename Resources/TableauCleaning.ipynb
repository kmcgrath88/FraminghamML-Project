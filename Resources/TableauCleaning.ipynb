{
 "cells": [
  {
   "cell_type": "code",
   "execution_count": 13,
   "metadata": {},
   "outputs": [],
   "source": [
    "import pandas as pd"
   ]
  },
  {
   "cell_type": "code",
   "execution_count": 14,
   "metadata": {},
   "outputs": [
    {
     "data": {
      "text/plain": [
       "Index(['RANDID', 'SEX', 'TOTCHOL', 'AGE', 'SYSBP', 'DIABP', 'CURSMOKE',\n",
       "       'CIGPDAY', 'BMI', 'DIABETES', 'BPMEDS', 'HEARTRTE', 'GLUCOSE', 'educ',\n",
       "       'PREVCHD', 'PREVAP', 'PREVMI', 'PREVSTRK', 'PREVHYP', 'TIME', 'PERIOD',\n",
       "       'HDLC', 'LDLC', 'DEATH', 'ANGINA', 'HOSPMI', 'MI_FCHD', 'ANYCHD',\n",
       "       'STROKE', 'CVD', 'HYPERTEN', 'TIMEAP', 'TIMEMI', 'TIMEMIFC', 'TIMECHD',\n",
       "       'TIMESTRK', 'TIMECVD', 'TIMEDTH', 'TIMEHYP'],\n",
       "      dtype='object')"
      ]
     },
     "execution_count": 14,
     "metadata": {},
     "output_type": "execute_result"
    }
   ],
   "source": [
    "df = pd.read_csv(\"frmgham2.csv\")\n",
    "df.columns"
   ]
  },
  {
   "cell_type": "code",
   "execution_count": 18,
   "metadata": {},
   "outputs": [
    {
     "data": {
      "text/plain": [
       "Index(['RANDID', 'SEX', 'TOTCHOL', 'AGE', 'SYSBP', 'DIABP', 'CURSMOKE',\n",
       "       'CIGPDAY', 'BMI', 'DIABETES', 'BPMEDS', 'HEARTRTE', 'GLUCOSE',\n",
       "       'PREVCHD', 'PREVAP', 'PREVMI', 'PREVSTRK', 'PREVHYP', 'TIME', 'PERIOD',\n",
       "       'DEATH', 'ANGINA', 'HOSPMI', 'MI_FCHD', 'ANYCHD', 'STROKE', 'CVD',\n",
       "       'HYPERTEN', 'TIMEAP', 'TIMEMI', 'TIMEMIFC', 'TIMECHD', 'TIMESTRK',\n",
       "       'TIMECVD', 'TIMEDTH', 'TIMEHYP'],\n",
       "      dtype='object')"
      ]
     },
     "execution_count": 18,
     "metadata": {},
     "output_type": "execute_result"
    }
   ],
   "source": [
    "period1 = df.loc[(df[\"PERIOD\"])==1]\n",
    "period1 = period1[['RANDID', 'SEX', 'TOTCHOL', 'AGE', 'SYSBP', 'DIABP', 'CURSMOKE',\n",
    "       'CIGPDAY', 'BMI', 'DIABETES', 'BPMEDS', 'HEARTRTE', 'GLUCOSE',\n",
    "        'PREVCHD', 'PREVAP', 'PREVMI', 'PREVSTRK', 'PREVHYP', 'TIME', 'PERIOD',\n",
    "        'DEATH', 'ANGINA', 'HOSPMI', 'MI_FCHD', 'ANYCHD',\n",
    "       'STROKE', 'CVD', 'HYPERTEN', 'TIMEAP', 'TIMEMI', 'TIMEMIFC', 'TIMECHD',\n",
    "       'TIMESTRK', 'TIMECVD', 'TIMEDTH', 'TIMEHYP']]\n",
    "period1.columns"
   ]
  },
  {
   "cell_type": "code",
   "execution_count": 20,
   "metadata": {},
   "outputs": [
    {
     "data": {
      "text/plain": [
       "RANDID      4434\n",
       "SEX         4434\n",
       "TOTCHOL     4382\n",
       "AGE         4434\n",
       "SYSBP       4434\n",
       "DIABP       4434\n",
       "CURSMOKE    4434\n",
       "CIGPDAY     4402\n",
       "BMI         4415\n",
       "DIABETES    4434\n",
       "BPMEDS      4373\n",
       "HEARTRTE    4433\n",
       "GLUCOSE     4037\n",
       "PREVCHD     4434\n",
       "PREVAP      4434\n",
       "PREVMI      4434\n",
       "PREVSTRK    4434\n",
       "PREVHYP     4434\n",
       "TIME        4434\n",
       "PERIOD      4434\n",
       "DEATH       4434\n",
       "ANGINA      4434\n",
       "HOSPMI      4434\n",
       "MI_FCHD     4434\n",
       "ANYCHD      4434\n",
       "STROKE      4434\n",
       "CVD         4434\n",
       "HYPERTEN    4434\n",
       "TIMEAP      4434\n",
       "TIMEMI      4434\n",
       "TIMEMIFC    4434\n",
       "TIMECHD     4434\n",
       "TIMESTRK    4434\n",
       "TIMECVD     4434\n",
       "TIMEDTH     4434\n",
       "TIMEHYP     4434\n",
       "dtype: int64"
      ]
     },
     "execution_count": 20,
     "metadata": {},
     "output_type": "execute_result"
    }
   ],
   "source": [
    "period1.count()"
   ]
  },
  {
   "cell_type": "code",
   "execution_count": 21,
   "metadata": {},
   "outputs": [
    {
     "data": {
      "text/plain": [
       "RANDID        0\n",
       "SEX           0\n",
       "TOTCHOL      52\n",
       "AGE           0\n",
       "SYSBP         0\n",
       "DIABP         0\n",
       "CURSMOKE      0\n",
       "CIGPDAY      32\n",
       "BMI          19\n",
       "DIABETES      0\n",
       "BPMEDS       61\n",
       "HEARTRTE      1\n",
       "GLUCOSE     397\n",
       "PREVCHD       0\n",
       "PREVAP        0\n",
       "PREVMI        0\n",
       "PREVSTRK      0\n",
       "PREVHYP       0\n",
       "TIME          0\n",
       "PERIOD        0\n",
       "DEATH         0\n",
       "ANGINA        0\n",
       "HOSPMI        0\n",
       "MI_FCHD       0\n",
       "ANYCHD        0\n",
       "STROKE        0\n",
       "CVD           0\n",
       "HYPERTEN      0\n",
       "TIMEAP        0\n",
       "TIMEMI        0\n",
       "TIMEMIFC      0\n",
       "TIMECHD       0\n",
       "TIMESTRK      0\n",
       "TIMECVD       0\n",
       "TIMEDTH       0\n",
       "TIMEHYP       0\n",
       "dtype: int64"
      ]
     },
     "execution_count": 21,
     "metadata": {},
     "output_type": "execute_result"
    }
   ],
   "source": [
    "period1.isna().sum()"
   ]
  },
  {
   "cell_type": "code",
   "execution_count": 23,
   "metadata": {},
   "outputs": [],
   "source": [
    "period1 = period1.dropna()"
   ]
  },
  {
   "cell_type": "code",
   "execution_count": 24,
   "metadata": {},
   "outputs": [
    {
     "data": {
      "text/plain": [
       "RANDID      0\n",
       "SEX         0\n",
       "TOTCHOL     0\n",
       "AGE         0\n",
       "SYSBP       0\n",
       "DIABP       0\n",
       "CURSMOKE    0\n",
       "CIGPDAY     0\n",
       "BMI         0\n",
       "DIABETES    0\n",
       "BPMEDS      0\n",
       "HEARTRTE    0\n",
       "GLUCOSE     0\n",
       "PREVCHD     0\n",
       "PREVAP      0\n",
       "PREVMI      0\n",
       "PREVSTRK    0\n",
       "PREVHYP     0\n",
       "TIME        0\n",
       "PERIOD      0\n",
       "DEATH       0\n",
       "ANGINA      0\n",
       "HOSPMI      0\n",
       "MI_FCHD     0\n",
       "ANYCHD      0\n",
       "STROKE      0\n",
       "CVD         0\n",
       "HYPERTEN    0\n",
       "TIMEAP      0\n",
       "TIMEMI      0\n",
       "TIMEMIFC    0\n",
       "TIMECHD     0\n",
       "TIMESTRK    0\n",
       "TIMECVD     0\n",
       "TIMEDTH     0\n",
       "TIMEHYP     0\n",
       "dtype: int64"
      ]
     },
     "execution_count": 24,
     "metadata": {},
     "output_type": "execute_result"
    }
   ],
   "source": [
    "period1.isna().sum()"
   ]
  },
  {
   "cell_type": "code",
   "execution_count": 25,
   "metadata": {},
   "outputs": [],
   "source": [
    "period1.to_csv(\"period1.csv\")"
   ]
  },
  {
   "cell_type": "code",
   "execution_count": null,
   "metadata": {},
   "outputs": [],
   "source": []
  },
  {
   "cell_type": "code",
   "execution_count": null,
   "metadata": {},
   "outputs": [],
   "source": []
  }
 ],
 "metadata": {
  "kernelspec": {
   "display_name": "Python 3",
   "language": "python",
   "name": "python3"
  },
  "language_info": {
   "codemirror_mode": {
    "name": "ipython",
    "version": 3
   },
   "file_extension": ".py",
   "mimetype": "text/x-python",
   "name": "python",
   "nbconvert_exporter": "python",
   "pygments_lexer": "ipython3",
   "version": "3.7.6"
  }
 },
 "nbformat": 4,
 "nbformat_minor": 4
}
